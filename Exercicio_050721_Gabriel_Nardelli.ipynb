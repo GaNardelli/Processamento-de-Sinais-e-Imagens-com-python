{
  "nbformat": 4,
  "nbformat_minor": 0,
  "metadata": {
    "colab": {
      "name": "Exercicio_050721_Gabriel_Nardelli.ipynb",
      "provenance": [],
      "collapsed_sections": []
    },
    "kernelspec": {
      "name": "python3",
      "display_name": "Python 3"
    },
    "language_info": {
      "name": "python"
    }
  },
  "cells": [
    {
      "cell_type": "markdown",
      "metadata": {
        "id": "G_qg4BbQb6_5"
      },
      "source": [
        "# Exercícios aula 05/07/2021\n",
        "\n",
        "**Resolução dos exercícios apresentados na aula do dia 05/07/2021**\n",
        "\n",
        "Aluno: Gabriel Vitti Nardelli"
      ]
    },
    {
      "cell_type": "markdown",
      "metadata": {
        "id": "Uxu4yi3Zms5L"
      },
      "source": [
        "## Exercício 1"
      ]
    },
    {
      "cell_type": "code",
      "metadata": {
        "colab": {
          "base_uri": "https://localhost:8080/",
          "height": 35
        },
        "id": "6hjyGSmucKfX",
        "outputId": "2828389a-76d1-48e2-9a15-fd6ed9f2ab48"
      },
      "source": [
        "string = 'Ao sair de casa use máscara conforme o recomendado'\n",
        "indice1 = string.find('use')\n",
        "indice2 = string.find('máscara') + len('mascara')\n",
        "string[indice1:indice2]\n"
      ],
      "execution_count": null,
      "outputs": [
        {
          "output_type": "execute_result",
          "data": {
            "application/vnd.google.colaboratory.intrinsic+json": {
              "type": "string"
            },
            "text/plain": [
              "'use máscara'"
            ]
          },
          "metadata": {
            "tags": []
          },
          "execution_count": 6
        }
      ]
    },
    {
      "cell_type": "markdown",
      "metadata": {
        "id": "2HV8pwjPnFhG"
      },
      "source": [
        "## Exercício 2"
      ]
    },
    {
      "cell_type": "code",
      "metadata": {
        "colab": {
          "base_uri": "https://localhost:8080/"
        },
        "id": "npulqfTWnTB5",
        "outputId": "437a6bc5-ea11-4ce5-ef8a-5b7c46108345"
      },
      "source": [
        "email = input(\"Insira um endereço de email:\")\n",
        "if email.count('@') == 1 and email[len(email)-4:] == '.com'and email.islower: \n",
        "  print('Email válido!')\n",
        "else:\n",
        "  print(\"Email inválido!\")\n",
        "\n"
      ],
      "execution_count": null,
      "outputs": [
        {
          "output_type": "stream",
          "text": [
            "Insira um endereço de email:@.com\n",
            "Email válido!\n"
          ],
          "name": "stdout"
        }
      ]
    },
    {
      "cell_type": "markdown",
      "metadata": {
        "id": "hoVwR0U6nIcn"
      },
      "source": [
        "## Exercício 3"
      ]
    },
    {
      "cell_type": "code",
      "metadata": {
        "colab": {
          "base_uri": "https://localhost:8080/"
        },
        "id": "8EWTNj-SnMAT",
        "outputId": "b94231b3-c8b2-49f3-8608-8b6ddc8274a6"
      },
      "source": [
        "volumeReagente = int(input(\"Insira o volume do reagente A:\"))\n",
        "B = volumeReagente/4\n",
        "C = (0.78*B)**3\n",
        "D = 0.18*(volumeReagente + C)\n",
        "Agua = (2*volumeReagente) - (0.4*D)\n",
        "B, C, D, Agua\n"
      ],
      "execution_count": null,
      "outputs": [
        {
          "output_type": "stream",
          "text": [
            "Insira o volume do reagente A:23\n"
          ],
          "name": "stdout"
        },
        {
          "output_type": "execute_result",
          "data": {
            "text/plain": [
              "(5.75, 90.21678412500002, 20.3790211425, 37.848391543)"
            ]
          },
          "metadata": {
            "tags": []
          },
          "execution_count": 68
        }
      ]
    },
    {
      "cell_type": "markdown",
      "metadata": {
        "id": "k8ONJR0xnFZZ"
      },
      "source": [
        "## Exercício 4"
      ]
    },
    {
      "cell_type": "code",
      "metadata": {
        "colab": {
          "base_uri": "https://localhost:8080/"
        },
        "id": "1rqz4qw1nDnm",
        "outputId": "d4328c1f-856b-4f6a-b1fb-8aff30fe8a60"
      },
      "source": [
        "L = [6, 1, 0, 9, 8, 1, 0, 7]\n",
        "print('Tamanho da Lista:' + str(len(L)))\n",
        "print('Maior valor da Lista:' + str(max(L)))\n",
        "print('Menor valor da Lista:' + str(min(L)))\n",
        "print('Soma de todos os valores da Lista:' + str(sum(L)))\n",
        "print('Valores ordenados em forma crescente:' + str(sorted(L)))\n",
        "L.sort(reverse=True)\n",
        "print('Valores ordenados em forma decrescente:' + str(L))"
      ],
      "execution_count": null,
      "outputs": [
        {
          "output_type": "stream",
          "text": [
            "Tamanho da Lista:8\n",
            "Maior valor da Lista:9\n",
            "Menor valor da Lista:0\n",
            "Soma de todos os valores da Lista:32\n",
            "Valores ordenados em forma crescente:[0, 0, 1, 1, 6, 7, 8, 9]\n",
            "Valores ordenados em forma decrescente:[9, 8, 7, 6, 1, 1, 0, 0]\n"
          ],
          "name": "stdout"
        }
      ]
    },
    {
      "cell_type": "markdown",
      "metadata": {
        "id": "sdnfBSrfDsvl"
      },
      "source": [
        "## Exercício 5"
      ]
    },
    {
      "cell_type": "code",
      "metadata": {
        "colab": {
          "base_uri": "https://localhost:8080/"
        },
        "id": "Uj7o-nDPDrVS",
        "outputId": "1823f372-97d5-407a-f462-e314754354b6"
      },
      "source": [
        "lista = [x for x in range(1,500) if x%7 == 0]\n",
        "print(lista)"
      ],
      "execution_count": null,
      "outputs": [
        {
          "output_type": "stream",
          "text": [
            "[7, 14, 21, 28, 35, 42, 49, 56, 63, 70, 77, 84, 91, 98, 105, 112, 119, 126, 133, 140, 147, 154, 161, 168, 175, 182, 189, 196, 203, 210, 217, 224, 231, 238, 245, 252, 259, 266, 273, 280, 287, 294, 301, 308, 315, 322, 329, 336, 343, 350, 357, 364, 371, 378, 385, 392, 399, 406, 413, 420, 427, 434, 441, 448, 455, 462, 469, 476, 483, 490, 497]\n"
          ],
          "name": "stdout"
        }
      ]
    },
    {
      "cell_type": "markdown",
      "metadata": {
        "id": "0-zmyQE9FCW-"
      },
      "source": [
        "## Exercício 6 "
      ]
    },
    {
      "cell_type": "code",
      "metadata": {
        "colab": {
          "base_uri": "https://localhost:8080/"
        },
        "id": "zGX1i2hdD6nC",
        "outputId": "c614ce96-3c67-4e30-88ef-399139e717ae"
      },
      "source": [
        "produtos = {'Celular':1800, 'Televisão':3500, 'Micro-Ondas':1200, 'Computador':4000, 'Geladeira': 6000}\n",
        "produtos"
      ],
      "execution_count": null,
      "outputs": [
        {
          "output_type": "execute_result",
          "data": {
            "text/plain": [
              "{'Celular': 1800,\n",
              " 'Computador': 4000,\n",
              " 'Geladeira': 6000,\n",
              " 'Micro-Ondas': 1200,\n",
              " 'Televisão': 3500}"
            ]
          },
          "metadata": {
            "tags": []
          },
          "execution_count": 95
        }
      ]
    },
    {
      "cell_type": "markdown",
      "metadata": {
        "id": "4evHtpnmFh31"
      },
      "source": [
        "## Exercício 7"
      ]
    },
    {
      "cell_type": "code",
      "metadata": {
        "colab": {
          "base_uri": "https://localhost:8080/"
        },
        "id": "cBNodi8TFgXL",
        "outputId": "99b87945-c596-4634-81e3-1098bd21a9cc"
      },
      "source": [
        "grade = {'Alberto': 6.4, 'Bianca': 7.3, 'Clarisse': 8.4, 'Diogo': 3.4,'Wellington': 10}\n",
        "nome = grade.keys()\n",
        "nota = grade.values()\n",
        "media = sum(nota)/len(nota)\n",
        "print('Média dos alunos:' + str(media))"
      ],
      "execution_count": null,
      "outputs": [
        {
          "output_type": "stream",
          "text": [
            "Média dos alunos:7.1\n"
          ],
          "name": "stdout"
        }
      ]
    },
    {
      "cell_type": "markdown",
      "metadata": {
        "id": "ubm0i-WrGsvM"
      },
      "source": [
        "## Exercício 8"
      ]
    },
    {
      "cell_type": "code",
      "metadata": {
        "colab": {
          "base_uri": "https://localhost:8080/"
        },
        "id": "To1sqRM5GqX9",
        "outputId": "60097830-e2c6-48dd-f562-38969ac1b970"
      },
      "source": [
        "nota1 = int(input(\"Insira a nota 1:\"))\n",
        "nota2 = int(input(\"Insira a nota 2:\"))\n",
        "media = (nota1+nota2)/2\n",
        "if media >= 8:\n",
        "  print('Aprovado')\n",
        "else:\n",
        "  print('Reprovado')"
      ],
      "execution_count": null,
      "outputs": [
        {
          "output_type": "stream",
          "text": [
            "Insira a nota 1:10\n",
            "Insira a nota 2:8\n",
            "Aprovado\n"
          ],
          "name": "stdout"
        }
      ]
    },
    {
      "cell_type": "markdown",
      "metadata": {
        "id": "A9ZA6Nc4HJLF"
      },
      "source": [
        "## Exercício 9\n"
      ]
    },
    {
      "cell_type": "code",
      "metadata": {
        "colab": {
          "base_uri": "https://localhost:8080/"
        },
        "id": "Bnaeb0p9HH6m",
        "outputId": "1aa5272a-69d1-4eb5-f6ed-9a8c49a7e693"
      },
      "source": [
        "nota1 = int(input(\"Insira a nota 1:\"))\n",
        "nota2 = int(input(\"Insira a nota 2:\"))\n",
        "media = (nota1+nota2)/2\n",
        "if media >= 8:\n",
        "  print('Aprovado')\n",
        "elif 2 <= media <= 8:\n",
        "  print('Regime de Recuperação')\n",
        "else:\n",
        "  print('Reprovado')"
      ],
      "execution_count": null,
      "outputs": [
        {
          "output_type": "stream",
          "text": [
            "Insira a nota 1:8\n",
            "Insira a nota 2:5\n",
            "Regime de Recuperação\n"
          ],
          "name": "stdout"
        }
      ]
    },
    {
      "cell_type": "markdown",
      "metadata": {
        "id": "4qYXhQgeHc9Z"
      },
      "source": [
        "## Exercício 10"
      ]
    },
    {
      "cell_type": "code",
      "metadata": {
        "colab": {
          "base_uri": "https://localhost:8080/"
        },
        "id": "H1dz8TsvHcgX",
        "outputId": "9949f948-98e5-41cf-f376-a4f04dc05ef5"
      },
      "source": [
        "l = []\n",
        "prox = 0 \n",
        "while prox < 333:\n",
        "  i = 3 + prox\n",
        "  l.append(i)\n",
        "  prox += 3\n",
        "\n",
        "print(sum(l))\n",
        "\n"
      ],
      "execution_count": null,
      "outputs": [
        {
          "output_type": "stream",
          "text": [
            "18648\n"
          ],
          "name": "stdout"
        }
      ]
    },
    {
      "cell_type": "markdown",
      "metadata": {
        "id": "QxZrRKMeJm5R"
      },
      "source": [
        "## Exercício 11"
      ]
    },
    {
      "cell_type": "code",
      "metadata": {
        "colab": {
          "base_uri": "https://localhost:8080/"
        },
        "id": "SSEyl-KXIgpD",
        "outputId": "1bc799ba-6e64-45d3-b647-c7090d349e7e"
      },
      "source": [
        "l = []\n",
        "for i in range(5):\n",
        "  l.append(int(input('Insira o valor ' + str(i+1) + ':')))\n",
        "\n",
        "media = sum(l)/len(l)\n",
        "print('Média dos ' + str(i+1) + ' valores inseridos:' + str(media))\n"
      ],
      "execution_count": null,
      "outputs": [
        {
          "output_type": "stream",
          "text": [
            "Insira o valor 1:1\n",
            "Insira o valor 2:2\n",
            "Insira o valor 3:3\n",
            "Insira o valor 4:4\n",
            "Insira o valor 5:5\n",
            "Média dos 4 valores inseridos:3.0\n"
          ],
          "name": "stdout"
        }
      ]
    },
    {
      "cell_type": "markdown",
      "metadata": {
        "id": "jdS002c4KOov"
      },
      "source": [
        "## Exercício 12"
      ]
    },
    {
      "cell_type": "code",
      "metadata": {
        "colab": {
          "base_uri": "https://localhost:8080/"
        },
        "id": "RBYms_zcKek2",
        "outputId": "fb2e4725-d3a0-4402-8703-653e14978d80"
      },
      "source": [
        "numero = int(input('Insira um numero de 0 a 9:'))\n",
        "for i in range(10):\n",
        "  print(str(numero) + ' x ' + str(i) + ' = ' + str(numero * i)) "
      ],
      "execution_count": null,
      "outputs": [
        {
          "output_type": "stream",
          "text": [
            "Insira um numero de 0 a 9:2\n",
            "2 x 0 = 0\n",
            "2 x 1 = 2\n",
            "2 x 2 = 4\n",
            "2 x 3 = 6\n",
            "2 x 4 = 8\n",
            "2 x 5 = 10\n",
            "2 x 6 = 12\n",
            "2 x 7 = 14\n",
            "2 x 8 = 16\n",
            "2 x 9 = 18\n"
          ],
          "name": "stdout"
        }
      ]
    },
    {
      "cell_type": "markdown",
      "metadata": {
        "id": "s0JhxLPDLGVI"
      },
      "source": [
        "## Exercício 13\n"
      ]
    },
    {
      "cell_type": "code",
      "metadata": {
        "colab": {
          "base_uri": "https://localhost:8080/"
        },
        "id": "GtCmgU-qLE8-",
        "outputId": "ebad4be3-8cf5-4ce1-dcd1-f3141030b1a7"
      },
      "source": [
        "def criaLinha (tamanho = 1):\n",
        "  '''\n",
        "  Parâmetros\n",
        "  Tamanho: Tamanho escolhido para a linha, valor padrão definido como 1\n",
        "  ---\n",
        "  Return None\n",
        "  '''\n",
        "  print('_'*tamanho)\n",
        "\n",
        "criaLinha(6)"
      ],
      "execution_count": null,
      "outputs": [
        {
          "output_type": "stream",
          "text": [
            "______\n"
          ],
          "name": "stdout"
        }
      ]
    }
  ]
}